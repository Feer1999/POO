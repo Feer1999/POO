{
 "cells": [
  {
   "cell_type": "code",
   "execution_count": null,
   "id": "9cc21f73",
   "metadata": {},
   "outputs": [],
   "source": [
    "# Atv02"
   ]
  },
  {
   "cell_type": "markdown",
   "id": "d9656571-a4ec-45a6-aae5-150e30b79680",
   "metadata": {},
   "source": [
    "Exibir a mensagem “Informe um inteiro: “, deixando o cursor na mesma linha"
   ]
  },
  {
   "cell_type": "code",
   "execution_count": 1,
   "id": "0501763a-8be5-423c-8bd4-6fd99bce483a",
   "metadata": {},
   "outputs": [
    {
     "name": "stdout",
     "output_type": "stream",
     "text": [
      "Informe um inteiro: 2\n"
     ]
    },
    {
     "data": {
      "text/plain": [
       "null"
      ]
     },
     "execution_count": 1,
     "metadata": {},
     "output_type": "execute_result"
    }
   ],
   "source": [
    "import java.util.Scanner; //importação do Scanner para ler os valores digitados\n",
    "System.out.print(\"Informe um inteiro: \");\n",
    "Scanner scanner = new Scanner(System.in);//receber o que for digitado no teclado pelo usuário\n",
    "int numero = scanner.nextInt(); // lê a entrada do usuário e armazena na variável input como uma string"
   ]
  },
  {
   "cell_type": "markdown",
   "id": "7de60167-1226-42ca-be9c-5907cbad6eb0",
   "metadata": {},
   "source": [
    "Atribuir o produto das variáveis b e c para a variável a"
   ]
  },
  {
   "cell_type": "code",
   "execution_count": 2,
   "id": "fc797b46-957d-4576-91bf-21d692630cf6",
   "metadata": {},
   "outputs": [
    {
     "name": "stdout",
     "output_type": "stream",
     "text": [
      "Informe o valor de b: 4\n",
      "Informe o valor de c: 10\n"
     ]
    },
    {
     "data": {
      "text/plain": [
       "null"
      ]
     },
     "execution_count": 2,
     "metadata": {},
     "output_type": "execute_result"
    }
   ],
   "source": [
    "\n",
    "import java.util.Scanner; //importação do Scanner para ler os valores digitados\n",
    "Scanner scanner = new Scanner(System.in); //receber o que for digitado no teclado pelo usuário\n",
    "System.out.print(\"Informe o valor de b: \");\n",
    "int b = scanner.nextInt(); //guarda o valor digitado na variavel b\n",
    "System.out.print(\"Informe o valor de c: \");\n",
    "int c = scanner.nextInt(); //guarda o valor digitado na variavel c\n",
    "int a = b * c; //guarda a variavel b e c na variavel a"
   ]
  },
  {
   "cell_type": "markdown",
   "id": "d19e3bb2-7c43-47d8-a839-40850540c807",
   "metadata": {},
   "source": [
    "Demonstrar a execução do cálculo e utilizar um comentário para afirmar que é um programa de exemplo de folha de pagamento."
   ]
  },
  {
   "cell_type": "code",
   "execution_count": 3,
   "id": "2b083026-31ef-436d-90cf-5337ecf5dacf",
   "metadata": {},
   "outputs": [
    {
     "name": "stdout",
     "output_type": "stream",
     "text": [
      "Informe o valor de b: 6\n",
      "Informe o valor de c: 7\n",
      "O produto de 6 e 7 é 42.\n"
     ]
    },
    {
     "data": {
      "text/plain": [
       "null"
      ]
     },
     "execution_count": 3,
     "metadata": {},
     "output_type": "execute_result"
    }
   ],
   "source": [
    "import java.util.Scanner; //importação do Scanner para ler os valores digitados\n",
    "Scanner scanner = new Scanner(System.in); //receber o que for digitado no teclado pelo usuário\n",
    "System.out.print(\"Informe o valor de b: \");\n",
    "int b = scanner.nextInt(); //guarda o valor digitado na variavel b\n",
    "System.out.print(\"Informe o valor de c: \");\n",
    "int c = scanner.nextInt(); //guarda o valor digitado na variavel c\n",
    "int a = b * c; //guarda a variavel b e c na variavel a\n",
    "System.out.println(\"O produto de \" + b + \" e \" + c + \" é \" + a + \".\"); // mostra a saida do produto"
   ]
  }
 ],
 "metadata": {
  "kernelspec": {
   "display_name": "Java",
   "language": "java",
   "name": "java"
  },
  "language_info": {
   "codemirror_mode": "text/x-java",
   "file_extension": ".java",
   "mimetype": "",
   "name": "Java",
   "nbconverter_exporter": "",
   "version": "1.8.0_121"
  }
 },
 "nbformat": 4,
 "nbformat_minor": 5
}
